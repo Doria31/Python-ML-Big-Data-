{
 "cells": [
  {
   "cell_type": "code",
   "execution_count": 1,
   "metadata": {},
   "outputs": [],
   "source": [
    "import sqlite3\n",
    "import pandas as pd\n",
    "import matplotlib.pyplot as plt"
   ]
  },
  {
   "cell_type": "markdown",
   "metadata": {},
   "source": [
    "### 1. ¿Cuál es el ingreso total generado por el negocio?"
   ]
  },
  {
   "cell_type": "code",
   "execution_count": 4,
   "metadata": {},
   "outputs": [
    {
     "name": "stdout",
     "output_type": "stream",
     "text": [
      "Ingreso total generado por el negocio: 39,854,875.32\n"
     ]
    }
   ],
   "source": [
    "#Conexión a base de datos\n",
    "conexion = sqlite3.connect(\"./datos/sanoyfresco.db\")\n",
    "\n",
    "total_ventas = pd.read_sql_query(\"\"\"SELECT SUM(precio_total) AS ingreso_total FROM tickets\"\"\", conexion)\n",
    "\n",
    "print(f\"Ingreso total generado por el negocio: {total_ventas['ingreso_total'][0]:,.2f}\")\n",
    "\n",
    "#Cerrar la conexión\n",
    "conexion.close()"
   ]
  },
  {
   "cell_type": "markdown",
   "metadata": {},
   "source": [
    "### 2. ¿Cómo ha sido la tendencia de ingresos mensuales?"
   ]
  },
  {
   "cell_type": "code",
   "execution_count": null,
   "metadata": {},
   "outputs": [],
   "source": [
    "conexion = sqlite3.connect(\"./datos/sanoyfresco.db\")\n",
    "\n",
    "tendencia_ventas = pd.read_sql_query(\"\"\"SELECT strftime('%Y-%m', fecha) AS mes, SUM(precio_total) AS ingresos_mensuales\n",
    "                                     FROM tickets\n",
    "                                     GROUP BY mes\n",
    "                                     ORDER BY mes\"\"\", conexion)\n",
    "\n",
    "print(\"\\n Tendencia de ingresos mensuales: \")\n",
    "print(tendencia_ventas)\n",
    "\n",
    "conexion.close()\n",
    "\n",
    "plt.figure(figsize=(10, 6)) \n",
    "plt.bar(tendencia_ventas['mes'], tendencia_ventas['ingresos_mensuales'], color='skyblue', edgecolor='black')  \n",
    "\n",
    "plt.title('Tendencia de Ingresos Mensuales', fontsize=14) \n",
    "plt.xlabel('Mes', fontsize=12) \n",
    "plt.ylabel('Ingresos Mensuales', fontsize=12) \n",
    "plt.xticks(rotation=45)\n",
    "\n",
    "plt.show()"
   ]
  },
  {
   "cell_type": "markdown",
   "metadata": {},
   "source": [
    "### 3. ¿Cuál es el rendimiento de cada departamento en términos de ventas?"
   ]
  },
  {
   "cell_type": "code",
   "execution_count": null,
   "metadata": {},
   "outputs": [],
   "source": [
    "conexion = sqlite3.connect(\"./datos/sanoyfresco.db\")\n",
    "\n",
    "ventas_departamento = pd.read_sql_query(\"\"\"SELECT id_departamento, SUM(precio_total) AS ingreso_departamento\n",
    "                                     FROM tickets\n",
    "                                     WHERE id_departamento IN (4, 16, 20, 7)\n",
    "                                     GROUP BY id_departamento\n",
    "                                     ORDER BY ingreso_departamento DESC\"\"\", conexion)\n",
    "\n",
    "print(\"\\n Rendimiento de cada departamento en términos de ventas: \")\n",
    "print(ventas_departamento)\n",
    "\n",
    "conexion.close()\n",
    "\n",
    "plt.figure(figsize=(10, 6))\n",
    "plt.bar(ventas_departamento['id_departamento'], ventas_departamento['ingreso_departamento'], color='skyblue',  edgecolor='black') \n",
    "\n",
    "plt.title('Rendimiento de cada departamento', fontsize=14)\n",
    "plt.xlabel('ID Departamento', fontsize=12) \n",
    "plt.ylabel('Ingreso por ventas', fontsize=12) \n",
    "plt.xticks(rotation=45) \n",
    "\n",
    "plt.show()"
   ]
  },
  {
   "cell_type": "markdown",
   "metadata": {},
   "source": [
    "### 4: ¿Cómo se distribuyen las ventas entre las diferentes secciones?\n"
   ]
  },
  {
   "cell_type": "code",
   "execution_count": null,
   "metadata": {},
   "outputs": [],
   "source": [
    "conexion = sqlite3.connect(\"./datos/sanoyfresco.db\")\n",
    "\n",
    "ventas_secciones = pd.read_sql_query(\"\"\"SELECT id_seccion, SUM(precio_total) AS ingreso_seccion\n",
    "                                     FROM tickets\n",
    "                                     WHERE id_seccion IN (24, 123, 83, 67, 53, 84, 115, 16)\n",
    "                                     GROUP BY id_seccion\n",
    "                                     ORDER BY ingreso_seccion DESC;\"\"\", conexion)\n",
    "\n",
    "print(\"\\n Ventas entre las diferentes secciones: \")\n",
    "print(ventas_secciones)\n",
    "\n",
    "conexion.close()\n",
    "\n",
    "plt.figure(figsize=(10, 6))\n",
    "plt.bar(ventas_secciones['id_seccion'], ventas_secciones['ingreso_seccion'], color='lightgreen', edgecolor='black')\n",
    "\n",
    "plt.title('Rendimiento de Ventas por sección', fontsize=14) \n",
    "plt.xlabel('ID Seccion', fontsize=12) \n",
    "plt.ylabel('Ingreso por ventas', fontsize=12) \n",
    "plt.xticks(rotation=45)\n",
    "\n",
    "plt.show()"
   ]
  },
  {
   "cell_type": "markdown",
   "metadata": {},
   "source": [
    "### 5. ¿Cuáles son los 10 productos más vendidos en cantidad?"
   ]
  },
  {
   "cell_type": "code",
   "execution_count": null,
   "metadata": {},
   "outputs": [],
   "source": [
    "conexion = sqlite3.connect(\"./datos/sanoyfresco.db\")\n",
    "\n",
    "productos_masvendidos = pd.read_sql_query(\"\"\"SELECT nombre_producto, SUM(cantidad) AS total_vendido\n",
    "                                     FROM tickets\n",
    "                                     WHERE nombre_producto IN ('Banana', 'Bolsa de Bananas Orgánicas', 'Fresas Orgánicas', \n",
    "                                     'Espinacas Baby Orgánicas', 'Aguacate Hass Orgánico', \n",
    "                                     'Aguacate Orgánico', 'Limón Grande', 'Fresas', 'Limones', \n",
    "                                     'Leche Entera Orgánica')\n",
    "                                     GROUP BY nombre_producto\n",
    "                                     ORDER BY total_vendido DESC\"\"\", conexion)\n",
    "\n",
    "print(\"\\n Ventas entre las diferentes secciones: \")\n",
    "print(productos_masvendidos)\n",
    "\n",
    "conexion.close()\n",
    "\n",
    "plt.figure(figsize=(10, 6))\n",
    "plt.barh(productos_masvendidos['nombre_producto'], productos_masvendidos['total_vendido'], color='salmon', edgecolor='black')\n",
    "\n",
    "plt.title('Prdoctos mas vendidos', fontsize=14) \n",
    "plt.xlabel('Total vendido', fontsize=12)\n",
    "plt.ylabel('Producto', fontsize=12) \n",
    "plt.xticks(rotation=45) \n",
    "\n",
    "plt.show()"
   ]
  },
  {
   "cell_type": "markdown",
   "metadata": {},
   "source": [
    "###  6: ¿Cuáles son los 10 productos que generan más ingresos?"
   ]
  },
  {
   "cell_type": "code",
   "execution_count": null,
   "metadata": {},
   "outputs": [],
   "source": [
    "conexion = sqlite3.connect(\"./datos/sanoyfresco.db\")\n",
    "\n",
    "productos_masvendidos = pd.read_sql_query(\"\"\"SELECT nombre_producto, SUM(precio_unitario * cantidad) AS ingreso_total_producto\n",
    "                                          FROM tickets\n",
    "                                          GROUP BY nombre_producto\n",
    "                                          ORDER BY ingreso_total_producto DESC\n",
    "                                          LIMIT 10\"\"\", conexion)\n",
    "\n",
    "print(\"\\n Ventas entre las diferentes secciones: \")\n",
    "print(productos_masvendidos)\n",
    "\n",
    "conexion.close()\n",
    "\n",
    "plt.figure(figsize=(10, 6))\n",
    "plt.barh(productos_masvendidos['nombre_producto'], productos_masvendidos['ingreso_total_producto'], color='lightcoral')\n",
    "\n",
    "plt.title('Prdoctos mas vendidos', fontsize=14)\n",
    "plt.xlabel('Ingreso total', fontsize=12)\n",
    "plt.ylabel('Producto', fontsize=12) \n",
    "plt.xticks(rotation=45)\n",
    "\n",
    "plt.show()"
   ]
  },
  {
   "cell_type": "markdown",
   "metadata": {},
   "source": [
    "### 7: ¿Quiénes son los 20 clientes que más compran en términos de ingresos?"
   ]
  },
  {
   "cell_type": "code",
   "execution_count": 19,
   "metadata": {},
   "outputs": [
    {
     "name": "stdout",
     "output_type": "stream",
     "text": [
      "\n",
      " Clientes que mas compran en términos de ingreso: \n",
      "    id_cliente  total_comprado\n",
      "0       189425         4784.44\n",
      "1       145686         4656.01\n",
      "2        95967         4441.07\n",
      "3        67870         4381.49\n",
      "4        51256         4280.17\n",
      "5       108031         4170.37\n",
      "6       105213         4164.07\n",
      "7        66806         4010.08\n",
      "8       153932         3966.09\n",
      "9       143296         3887.86\n",
      "10      175294         3886.68\n",
      "11        1197         3883.76\n",
      "12       62239         3873.40\n",
      "13        5665         3862.69\n",
      "14       31552         3852.53\n",
      "15      132274         3842.65\n",
      "16       14868         3836.05\n",
      "17      103634         3808.71\n",
      "18      132022         3803.13\n",
      "19       94701         3783.81\n"
     ]
    },
    {
     "data": {
      "image/png": "[encoded data removed]",
      "text/plain": [
       "<Figure size 1000x600 with 1 Axes>"
      ]
     },
     "metadata": {},
     "output_type": "display_data"
    }
   ],
   "source": [
    "conexion = sqlite3.connect(\"./datos/sanoyfresco.db\")\n",
    "\n",
    "compras_clientes = pd.read_sql_query(\"\"\"SELECT id_cliente, SUM(precio_total) AS total_comprado\n",
    "                                          FROM tickets\n",
    "                                          GROUP BY id_cliente\n",
    "                                          ORDER BY total_comprado DESC\n",
    "                                          LIMIT 20;\"\"\", conexion)\n",
    "\n",
    "print(\"\\n Clientes que mas compran en términos de ingreso: \")\n",
    "print(compras_clientes)\n",
    "\n",
    "conexion.close()\n",
    "\n",
    "plt.figure(figsize=(10, 6))\n",
    "plt.barh(compras_clientes['id_cliente'].astype(str), compras_clientes['total_comprado'], color='skyblue')\n",
    "\n",
    "plt.title('Clientes con mayor ingreso', fontsize=14) \n",
    "plt.xlabel('Ingreso total', fontsize=12)\n",
    "plt.ylabel('ID Cliente', fontsize=12)\n",
    "plt.xticks(rotation=45)\n",
    "\n",
    "plt.show()"
   ]
  },
  {
   "cell_type": "markdown",
   "metadata": {},
   "source": [
    "### 8: ¿Cuál es la compra media por cliente?"
   ]
  },
  {
   "cell_type": "code",
   "execution_count": null,
   "metadata": {},
   "outputs": [],
   "source": [
    "conexion = sqlite3.connect(\"./datos/sanoyfresco.db\")\n",
    "\n",
    "compramed_cliente = pd.read_sql_query(\"\"\"SELECT AVG(total_comprado) AS compra_media_por_cliente\n",
    "                                      FROM (\n",
    "                                          SELECT id_cliente, SUM(precio_total) AS total_comprado\n",
    "                                          FROM tickets\n",
    "                                          GROUP BY id_cliente\n",
    "                                          ) AS clientes_compras\"\"\", conexion)\n",
    "\n",
    "print(\"\\n Compra media por cliente: \")\n",
    "print(compramed_cliente )\n",
    "\n",
    "conexion.close()"
   ]
  },
  {
   "cell_type": "markdown",
   "metadata": {},
   "source": [
    "### 9: ¿Cuántos pedidos totales se han realizado?"
   ]
  },
  {
   "cell_type": "code",
   "execution_count": null,
   "metadata": {},
   "outputs": [],
   "source": [
    "conexion = sqlite3.connect(\"./datos/sanoyfresco.db\")\n",
    "\n",
    "total_pedidos = pd.read_sql_query(\"\"\"SELECT COUNT(DISTINCT id_pedido) AS total_pedidos\n",
    "                                  FROM tickets\"\"\", conexion)\n",
    "\n",
    "print(\"\\n Pedidos totales realizados: \")\n",
    "print(total_pedidos)\n",
    "\n",
    "conexion.close()"
   ]
  },
  {
   "cell_type": "markdown",
   "metadata": {},
   "source": [
    "### 10: ¿Cuál es el valor promedio por pedido?"
   ]
  },
  {
   "cell_type": "code",
   "execution_count": null,
   "metadata": {},
   "outputs": [],
   "source": [
    "conexion = sqlite3.connect(\"./datos/sanoyfresco.db\")\n",
    "\n",
    "promedio_prpedido = pd.read_sql_query(\"\"\"SELECT AVG(total_comprado) AS valor_promedio_por_pedido\n",
    "                                      FROM (\n",
    "                                          SELECT id_pedido, SUM(precio_total) AS total_comprado\n",
    "                                          FROM tickets\n",
    "                                          GROUP BY id_pedido) AS pedidos_totales;\"\"\", conexion)\n",
    "\n",
    "print(\"\\n Pedidos totales realizados: \")\n",
    "print(promedio_prpedido)\n",
    "\n",
    "conexion.close()"
   ]
  }
 ],
 "metadata": {
  "kernelspec": {
   "display_name": "venv",
   "language": "python",
   "name": "python3"
  },
  "language_info": {
   "codemirror_mode": {
    "name": "ipython",
    "version": 3
   },
   "file_extension": ".py",
   "mimetype": "text/x-python",
   "name": "python",
   "nbconvert_exporter": "python",
   "pygments_lexer": "ipython3",
   "version": "3.13.2"
  }
 },
 "nbformat": 4,
 "nbformat_minor": 2
}

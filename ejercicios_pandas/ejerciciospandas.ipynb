{
 "cells": [
  {
   "cell_type": "markdown",
   "metadata": {},
   "source": [
    "# **Ejercicios Pandas**\n",
    "\n",
    "5) Generar nuevas columnas segun sean requeridas para completar la informacion obtenida.\n",
    "\n",
    "6) Exportar el trabajo realizado en los ateriores items a un archivo de excel.\n"
   ]
  },
  {
   "cell_type": "markdown",
   "metadata": {},
   "source": [
    "1) Leer la siguiente URL y conocer su informacion principal, mediante el uso los atributos y metodos necesarios de pandas.\n"
   ]
  },
  {
   "cell_type": "code",
   "execution_count": null,
   "metadata": {},
   "outputs": [],
   "source": [
    "import pandas as pd\n",
    "\n",
    "url = 'https://raw.githubusercontent.com/rubisabel00/ciencias-de-datos-Sena/main/DocumentosNB03/clientes.csv'\n",
    "dataclientesURL = pd.read_csv(url, encoding='UTF-8', index_col=0)\n",
    "dataclientesURL.info()\n",
    "dataclientesURL.head()"
   ]
  },
  {
   "cell_type": "markdown",
   "metadata": {},
   "source": [
    "2) Realizar una descripcion estadistica de la informacion encontrada y normalizarla (Eliminar los null)."
   ]
  },
  {
   "cell_type": "code",
   "execution_count": null,
   "metadata": {},
   "outputs": [],
   "source": [
    "dataclientesURL.describe()\n",
    "\n",
    "clientesNoNulls = dataclientesURL.dropna()\n",
    "\n",
    "clientesNoNulls\n"
   ]
  },
  {
   "cell_type": "code",
   "execution_count": 35,
   "metadata": {},
   "outputs": [],
   "source": [
    "#Exportación\n",
    "clientesNoNulls.to_csv('./datos_pandas/clientesNoNulls.csv', index=False)"
   ]
  },
  {
   "cell_type": "markdown",
   "metadata": {},
   "source": [
    "3) Generar una grafica representativa de la informacion obtenida.\n",
    "\n"
   ]
  },
  {
   "cell_type": "code",
   "execution_count": null,
   "metadata": {},
   "outputs": [],
   "source": [
    "clientesNoNulls.plot()"
   ]
  },
  {
   "cell_type": "code",
   "execution_count": 37,
   "metadata": {},
   "outputs": [
    {
     "data": {
      "text/html": [
       "<div>\n",
       "<style scoped>\n",
       "    .dataframe tbody tr th:only-of-type {\n",
       "        vertical-align: middle;\n",
       "    }\n",
       "\n",
       "    .dataframe tbody tr th {\n",
       "        vertical-align: top;\n",
       "    }\n",
       "\n",
       "    .dataframe thead th {\n",
       "        text-align: right;\n",
       "    }\n",
       "</style>\n",
       "<table border=\"1\" class=\"dataframe\">\n",
       "  <thead>\n",
       "    <tr style=\"text-align: right;\">\n",
       "      <th></th>\n",
       "      <th>Nombre</th>\n",
       "      <th>Última fecha de compra</th>\n",
       "      <th>Frecuencia de compra</th>\n",
       "      <th>Valor promedio de la compra</th>\n",
       "      <th>Categoría de productos comprados</th>\n",
       "      <th>Método de pago</th>\n",
       "      <th>Edad</th>\n",
       "    </tr>\n",
       "    <tr>\n",
       "      <th>ID del cliente</th>\n",
       "      <th></th>\n",
       "      <th></th>\n",
       "      <th></th>\n",
       "      <th></th>\n",
       "      <th></th>\n",
       "      <th></th>\n",
       "      <th></th>\n",
       "    </tr>\n",
       "  </thead>\n",
       "  <tbody>\n",
       "    <tr>\n",
       "      <th>1</th>\n",
       "      <td>Juan Perez</td>\n",
       "      <td>15/03/2022</td>\n",
       "      <td>5</td>\n",
       "      <td>200.5</td>\n",
       "      <td>Ropa</td>\n",
       "      <td>Tarjeta de crédito</td>\n",
       "      <td>32.0</td>\n",
       "    </tr>\n",
       "    <tr>\n",
       "      <th>2</th>\n",
       "      <td>Ana Rodriguez</td>\n",
       "      <td>01/04/2022</td>\n",
       "      <td>2</td>\n",
       "      <td>80.0</td>\n",
       "      <td>Juguetes</td>\n",
       "      <td>Efectivo</td>\n",
       "      <td>45.0</td>\n",
       "    </tr>\n",
       "    <tr>\n",
       "      <th>3</th>\n",
       "      <td>Luisa Hernandez</td>\n",
       "      <td>10/12/2021</td>\n",
       "      <td>3</td>\n",
       "      <td>150.2</td>\n",
       "      <td>Electrónica</td>\n",
       "      <td>Transferencia bancaria</td>\n",
       "      <td>28.0</td>\n",
       "    </tr>\n",
       "    <tr>\n",
       "      <th>4</th>\n",
       "      <td>Carlos Garcia</td>\n",
       "      <td>28/02/2022</td>\n",
       "      <td>1</td>\n",
       "      <td>300.0</td>\n",
       "      <td>Alimentos</td>\n",
       "      <td>Tarjeta de crédito</td>\n",
       "      <td>50.0</td>\n",
       "    </tr>\n",
       "    <tr>\n",
       "      <th>5</th>\n",
       "      <td>Maria Gomez</td>\n",
       "      <td>20/03/2022</td>\n",
       "      <td>4</td>\n",
       "      <td>75.8</td>\n",
       "      <td>Ropa</td>\n",
       "      <td>Efectivo</td>\n",
       "      <td>22.0</td>\n",
       "    </tr>\n",
       "    <tr>\n",
       "      <th>...</th>\n",
       "      <td>...</td>\n",
       "      <td>...</td>\n",
       "      <td>...</td>\n",
       "      <td>...</td>\n",
       "      <td>...</td>\n",
       "      <td>...</td>\n",
       "      <td>...</td>\n",
       "    </tr>\n",
       "    <tr>\n",
       "      <th>160</th>\n",
       "      <td>Andrea Soto</td>\n",
       "      <td>09/06/2022</td>\n",
       "      <td>2</td>\n",
       "      <td>50.0</td>\n",
       "      <td>Electrónica</td>\n",
       "      <td>Transferencia bancaria</td>\n",
       "      <td>25.0</td>\n",
       "    </tr>\n",
       "    <tr>\n",
       "      <th>161</th>\n",
       "      <td>Laura Hernandez</td>\n",
       "      <td>06/06/2022</td>\n",
       "      <td>1</td>\n",
       "      <td>120.0</td>\n",
       "      <td>Alimentos</td>\n",
       "      <td>Efectivo</td>\n",
       "      <td>39.0</td>\n",
       "    </tr>\n",
       "    <tr>\n",
       "      <th>145</th>\n",
       "      <td>Luis Garcia</td>\n",
       "      <td>04/06/2022</td>\n",
       "      <td>4</td>\n",
       "      <td>75.2</td>\n",
       "      <td>Alimentos</td>\n",
       "      <td>Transferencia bancaria</td>\n",
       "      <td>28.0</td>\n",
       "    </tr>\n",
       "    <tr>\n",
       "      <th>154</th>\n",
       "      <td>Luisa Perez</td>\n",
       "      <td>08/06/2022</td>\n",
       "      <td>2</td>\n",
       "      <td>80.0</td>\n",
       "      <td>Ropa</td>\n",
       "      <td>Transferencia bancaria</td>\n",
       "      <td>33.0</td>\n",
       "    </tr>\n",
       "    <tr>\n",
       "      <th>160</th>\n",
       "      <td>Andrea Soto</td>\n",
       "      <td>09/06/2022</td>\n",
       "      <td>2</td>\n",
       "      <td>50.0</td>\n",
       "      <td>Electrónica</td>\n",
       "      <td>Transferencia bancaria</td>\n",
       "      <td>25.0</td>\n",
       "    </tr>\n",
       "  </tbody>\n",
       "</table>\n",
       "<p>142 rows × 7 columns</p>\n",
       "</div>"
      ],
      "text/plain": [
       "                         Nombre Última fecha de compra  Frecuencia de compra  \\\n",
       "ID del cliente                                                                 \n",
       "1                    Juan Perez             15/03/2022                     5   \n",
       "2                 Ana Rodriguez             01/04/2022                     2   \n",
       "3               Luisa Hernandez             10/12/2021                     3   \n",
       "4                 Carlos Garcia             28/02/2022                     1   \n",
       "5                   Maria Gomez             20/03/2022                     4   \n",
       "...                         ...                    ...                   ...   \n",
       "160                 Andrea Soto             09/06/2022                     2   \n",
       "161             Laura Hernandez             06/06/2022                     1   \n",
       "145                 Luis Garcia             04/06/2022                     4   \n",
       "154                 Luisa Perez             08/06/2022                     2   \n",
       "160                 Andrea Soto             09/06/2022                     2   \n",
       "\n",
       "                Valor promedio de la compra Categoría de productos comprados  \\\n",
       "ID del cliente                                                                 \n",
       "1                                     200.5                             Ropa   \n",
       "2                                      80.0                         Juguetes   \n",
       "3                                     150.2                      Electrónica   \n",
       "4                                     300.0                        Alimentos   \n",
       "5                                      75.8                             Ropa   \n",
       "...                                     ...                              ...   \n",
       "160                                    50.0                      Electrónica   \n",
       "161                                   120.0                        Alimentos   \n",
       "145                                    75.2                        Alimentos   \n",
       "154                                    80.0                             Ropa   \n",
       "160                                    50.0                      Electrónica   \n",
       "\n",
       "                        Método de pago  Edad  \n",
       "ID del cliente                                \n",
       "1                   Tarjeta de crédito  32.0  \n",
       "2                             Efectivo  45.0  \n",
       "3               Transferencia bancaria  28.0  \n",
       "4                   Tarjeta de crédito  50.0  \n",
       "5                             Efectivo  22.0  \n",
       "...                                ...   ...  \n",
       "160             Transferencia bancaria  25.0  \n",
       "161                           Efectivo  39.0  \n",
       "145             Transferencia bancaria  28.0  \n",
       "154             Transferencia bancaria  33.0  \n",
       "160             Transferencia bancaria  25.0  \n",
       "\n",
       "[142 rows x 7 columns]"
      ]
     },
     "execution_count": 37,
     "metadata": {},
     "output_type": "execute_result"
    }
   ],
   "source": [
    "clientesNoNulls"
   ]
  },
  {
   "cell_type": "markdown",
   "metadata": {},
   "source": [
    "4) Generar dos consultas de agrupamiento de valor agregado a la informacion obtenida.\n"
   ]
  },
  {
   "cell_type": "code",
   "execution_count": null,
   "metadata": {},
   "outputs": [],
   "source": [
    "# 1. Agrupamiento por Categoría de productos comprados y promedio de valor promedio de la compra \n",
    "agrupado_categoria = clientesNoNulls.groupby('Categoría de productos comprados').agg({'Valor promedio de la compra': 'mean'})\n",
    "\n",
    "agrupado_categoria"
   ]
  },
  {
   "cell_type": "code",
   "execution_count": 34,
   "metadata": {},
   "outputs": [],
   "source": [
    "#Exportación\n",
    "agrupado_categoria.to_csv('./datos_pandas/agrupado_categoria.csv', index=False)"
   ]
  },
  {
   "cell_type": "code",
   "execution_count": null,
   "metadata": {},
   "outputs": [],
   "source": [
    "# 2.Agrupar por el método de pago y calcular cuántos clientes utilizan cada tipo de pago\n",
    "agrupado_metodpago = clientesNoNulls.groupby('Método de pago').agg({'ID del cliente': 'count'})\n",
    "\n",
    "agrupado_metodpago\n"
   ]
  },
  {
   "cell_type": "code",
   "execution_count": null,
   "metadata": {},
   "outputs": [],
   "source": [
    "#Exportación\n",
    "agrupado_metodpago.to_csv('./datos_pandas/agrupado_metodpago.csv', index=False)"
   ]
  },
  {
   "cell_type": "markdown",
   "metadata": {},
   "source": [
    "5) Generar nuevas columnas segun sean requeridas para completar la informacion obtenida.\n"
   ]
  },
  {
   "cell_type": "code",
   "execution_count": null,
   "metadata": {},
   "outputs": [],
   "source": [
    "# Creamos la tabla dinámica\n",
    "pivot_clientes = clientesNoNulls.pivot_table(\n",
    "    values='Valor promedio de la compra',\n",
    "    index='Método de pago', \n",
    "    columns='Categoría de productos comprados', \n",
    "    aggfunc='mean',  \n",
    "    fill_value=0, \n",
    "    margins=True,  \n",
    "    margins_name='Total'  \n",
    ")\n",
    "\n",
    "print(pivot_clientes)\n"
   ]
  },
  {
   "cell_type": "code",
   "execution_count": 48,
   "metadata": {},
   "outputs": [],
   "source": [
    "#Exportación\n",
    "pivot_clientes.to_csv('./datos_pandas/pivot_clientes.csv', index=False)"
   ]
  }
 ],
 "metadata": {
  "kernelspec": {
   "display_name": "venv",
   "language": "python",
   "name": "python3"
  },
  "language_info": {
   "codemirror_mode": {
    "name": "ipython",
    "version": 3
   },
   "file_extension": ".py",
   "mimetype": "text/x-python",
   "name": "python",
   "nbconvert_exporter": "python",
   "pygments_lexer": "ipython3",
   "version": "3.13.2"
  }
 },
 "nbformat": 4,
 "nbformat_minor": 2
}

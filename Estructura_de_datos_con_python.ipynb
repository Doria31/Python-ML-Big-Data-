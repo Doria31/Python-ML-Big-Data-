{
  "nbformat": 4,
  "nbformat_minor": 0,
  "metadata": {
    "colab": {
      "provenance": [],
      "toc_visible": true,
      "authorship_tag": "ABX9TyOFIi+dEKcw9da01Juf4K08",
      "include_colab_link": true
    },
    "kernelspec": {
      "name": "python3",
      "display_name": "Python 3"
    },
    "language_info": {
      "name": "python"
    }
  },
  "cells": [
    {
      "cell_type": "markdown",
      "metadata": {
        "id": "view-in-github",
        "colab_type": "text"
      },
      "source": [
        "<a href=\"https://colab.research.google.com/github/Doria31/Python-ML-Big-Data-/blob/main/Estructura_de_datos_con_python.ipynb\" target=\"_parent\"><img src=\"https://colab.research.google.com/assets/colab-badge.svg\" alt=\"Open In Colab\"/></a>"
      ]
    },
    {
      "cell_type": "markdown",
      "source": [
        "# **Estructura de Datos**\n"
      ],
      "metadata": {
        "id": "2k-JmJeDliLv"
      }
    },
    {
      "cell_type": "markdown",
      "source": [
        "## Listas:"
      ],
      "metadata": {
        "id": "aAh5lxFunLGh"
      }
    },
    {
      "cell_type": "code",
      "source": [
        "#Listas\n",
        "\n",
        "lista = [1,2,3,4,5] #Lista homogenea\n",
        "print(lista)\n",
        "\n",
        "lista2 = [20, True, \"Soy en texto dentro de una lista\"] #Lista heterogena. La posición se le de 0 a n-1\n",
        "print(lista2)\n",
        "\n",
        "print(lista2[1]) #Imprime el cotenido de la lista en la posición 1\n",
        "lista2[0] = 50\n",
        "print(lista2)"
      ],
      "metadata": {
        "id": "u534POzLmC0Z"
      },
      "execution_count": null,
      "outputs": []
    },
    {
      "cell_type": "markdown",
      "source": [
        "### Metodos:\n",
        "\n",
        "\n"
      ],
      "metadata": {
        "id": "SgiEicBRnPq9"
      }
    },
    {
      "cell_type": "code",
      "source": [
        "#Metodo Append\n",
        "lista_nueva = [1, 2, 3, 4, 5]\n",
        "lista_nueva.append(6) #Agrega el valor a la ultima posición de la lista.\n",
        "print(lista_nueva)\n",
        "\n",
        "#Metodo Count\n",
        "print(lista_nueva.count(6)) #Devuelve la cantidad de veces que se repite un valor dentro de la lista\n",
        "\n",
        "#Metodo Index\n",
        "print(lista_nueva.index(4)) #Muestra la primera posición del elemento dentro la lista\n",
        "\n",
        "#Meotodo Remove\n",
        "lista_nueva.remove(6) #Elimina la primera aparición de un elemento dentro de una lista\n",
        "print(lista_nueva)"
      ],
      "metadata": {
        "colab": {
          "base_uri": "https://localhost:8080/"
        },
        "id": "8_RECmMLnTLS",
        "outputId": "0c38b792-8bad-4e22-c36e-c604052a11c2"
      },
      "execution_count": 3,
      "outputs": [
        {
          "output_type": "stream",
          "name": "stdout",
          "text": [
            "[1, 2, 3, 4, 5, 6]\n",
            "1\n",
            "3\n",
            "[1, 2, 3, 4, 5]\n"
          ]
        }
      ]
    },
    {
      "cell_type": "markdown",
      "source": [
        "## Tuplas:"
      ],
      "metadata": {
        "id": "2xxwyASYpSa_"
      }
    },
    {
      "cell_type": "code",
      "source": [
        "tupla = (1,2,3) #Tupla homogenea\n",
        "print(tupla)\n",
        "print((1, ))\n",
        "\n",
        "tupla2 = (5, False, \"Soy en texto dentro de una tupla\", True) #Tupla heterogena. La posición se le de 0 a n-1\n",
        "print(tupla2)\n",
        "\n",
        "print(tupla2[0]) #Acceder al contenido de un tupla"
      ],
      "metadata": {
        "colab": {
          "base_uri": "https://localhost:8080/"
        },
        "id": "O9iJ7w6kpX_D",
        "outputId": "07e3418b-c8f1-4b58-c6dc-9cda800246bd"
      },
      "execution_count": 6,
      "outputs": [
        {
          "output_type": "stream",
          "name": "stdout",
          "text": [
            "(1, 2, 3)\n",
            "(1,)\n",
            "(5, False, 'Soy en texto dentro de una tupla', True)\n",
            "5\n"
          ]
        }
      ]
    },
    {
      "cell_type": "code",
      "source": [],
      "metadata": {
        "id": "r6B3h8exrmgP"
      },
      "execution_count": null,
      "outputs": []
    },
    {
      "cell_type": "markdown",
      "source": [
        "### Metodos:"
      ],
      "metadata": {
        "id": "uqgEaKfvqfjZ"
      }
    },
    {
      "cell_type": "code",
      "source": [
        "#Count\n",
        "print(tupla2.count(False)) #Devuelve la cantidad de veces que se repite un valor dentro de la tupla\n",
        "\n",
        "#Index\n",
        "print(tupla2.index(5)) #Muestra la primera posición del elemento dentro la tupla"
      ],
      "metadata": {
        "id": "F_gcR1DDqhHT"
      },
      "execution_count": null,
      "outputs": []
    },
    {
      "cell_type": "markdown",
      "source": [
        "## Conjuntos:"
      ],
      "metadata": {
        "id": "Jespy1eXrjdJ"
      }
    },
    {
      "cell_type": "code",
      "source": [
        "set( ) #Construir conjuntos\n",
        "#No muestra elementos repetidos de la lista del conjunto\n",
        "conjunto = set([1, 2, 3, 4, 5])\n",
        "print(conjunto)\n",
        "\n",
        "print(set([1, 2, 3]))\n",
        "print(set([2, 3, 4, 4]))\n",
        "print(set(\"Hola\")) #Un string lo obtiene como un conjunto de char, python lo interpreta como  una lista de caracteres desordenada"
      ],
      "metadata": {
        "colab": {
          "base_uri": "https://localhost:8080/"
        },
        "id": "_hvUdGYir4gb",
        "outputId": "ca624da4-31dc-4f91-ef9c-c8e275de7200"
      },
      "execution_count": 11,
      "outputs": [
        {
          "output_type": "stream",
          "name": "stdout",
          "text": [
            "{1, 2, 3, 4, 5}\n",
            "{1, 2, 3}\n",
            "{2, 3, 4}\n",
            "{'l', 'H', 'o', 'a'}\n"
          ]
        }
      ]
    },
    {
      "cell_type": "markdown",
      "source": [
        "### Metodos:"
      ],
      "metadata": {
        "id": "OUjPZrcZtLKA"
      }
    },
    {
      "cell_type": "code",
      "source": [
        "#Metodo Add\n",
        "#Podemos añadir elementos al conjunto\n",
        "\n",
        "conjunto.add(0)\n",
        "print(conjunto)\n",
        "\n",
        "#Metodo remove\n",
        "#Elimina elementos del conjunto\n",
        "conjunto.remove(0)\n",
        "print(conjunto)"
      ],
      "metadata": {
        "id": "8yQfQSKstSEJ"
      },
      "execution_count": null,
      "outputs": []
    },
    {
      "cell_type": "markdown",
      "source": [
        "### Operaciones con conjuntos"
      ],
      "metadata": {
        "id": "o45xRfSQumjE"
      }
    },
    {
      "cell_type": "code",
      "source": [
        "#Intersección\n",
        "conjunto_A = set([2, 4, 5, 7, 10, 12])\n",
        "conjunto_B = set([1, 3, 7])\n",
        "\n",
        "print(conjunto, conjunto_A, conjunto_B)\n",
        "\n",
        "#Intersección\n",
        "print(conjunto.intersection(conjunto_A)) #Aplicamos la intersección entre conjuntos y este imprime los valores que son comunes\n",
        "\n",
        "print(conjunto & conjunto_A) #Otra forma de realizar la intesección\n",
        "\n",
        "#Union\n",
        "print(conjunto_A.union(conjunto))\n",
        "\n",
        "print(conjunto_A | conjunto) #Aplicando la union con el simbolo |\n",
        "\n",
        "#Diferencia\n",
        "print(conjunto_A.difference(conjunto_B))\n",
        "\n",
        "print(conjunto_A - conjunto_B) #Aplicando la diferencia con el simbolo -\n",
        "\n",
        "#Diferencia simetrica\n",
        "print(conjunto_A.symmetric_difference(conjunto_B))\n",
        "\n",
        "print(conjunto_A ^ conjunto_B)\n",
        "\n"
      ],
      "metadata": {
        "id": "mWt888I4usRh"
      },
      "execution_count": null,
      "outputs": []
    },
    {
      "cell_type": "markdown",
      "source": [
        "## Diccionarios:\n",
        "{key: value}\n",
        "* No son ordenados\n",
        "* Son heterogeneos con clave inmutable {(1, 2): [\"uno\", \"dos\"], 1: \"uno\"}"
      ],
      "metadata": {
        "id": "B_dt1skqx8m8"
      }
    },
    {
      "cell_type": "code",
      "source": [
        "{} #adicionar vacio\n",
        "diccionario = {1: \"uno\", 2: \"dos\"} #Creamos el diccionario con clave y valor separados por comas\n",
        "print(diccionario)\n",
        "\n",
        "#Podemos ver el valor de una clave usando corchetes\n",
        "print(diccionario[2])\n",
        "\n",
        "#Podemos cambiar el valor de una Key usando el simbolo =\n",
        "diccionario[3] = \"tres\"\n",
        "print(diccionario)\n",
        "\n",
        "#Podemos crear diccionarios utilizando la propiedad dict\n",
        "\n",
        "dict_lista_tupla = dict([(1, \"uno\"), (2, \"dos\"), (3, \"tres\")])\n",
        "print(dict_lista_tupla)\n",
        "\n",
        "#Cuando las key son tipo string escribimos los datos con =\n",
        "dict_lista_string = dict(uno = 1, dos = 2, tres = 3)\n",
        "print(dict_lista_string)\n",
        "\n",
        "#En el diccionario se pueden usar varios tipos de datos\n",
        "dict_datos = {1: \"integer\", 2.2: \"float\", \"tres\": \"string\", (1, 2): \"tupla\"}\n",
        "print(dict_datos)\n",
        "\n",
        "#Las key siempre deber ser unicas, en caso de repetirla solo se tomará el ultimo valor asignado\n",
        "dict_repetido = {1: \"uno\", 1: \"dos\"}\n",
        "print(dict_repetido)"
      ],
      "metadata": {
        "colab": {
          "base_uri": "https://localhost:8080/"
        },
        "id": "Q97Qddvky2eU",
        "outputId": "ffcc947c-75bd-4e25-dbac-60a895b2afab"
      },
      "execution_count": 20,
      "outputs": [
        {
          "output_type": "stream",
          "name": "stdout",
          "text": [
            "{1: 'uno', 2: 'dos'}\n",
            "dos\n",
            "{1: 'uno', 2: 'dos', 3: 'tres'}\n",
            "{1: 'uno', 2: 'dos', 3: 'tres'}\n",
            "{'uno': 1, 'dos': 2, 'tres': 3}\n",
            "{1: 'integer', 2.2: 'float', 'tres': 'string', (1, 2): 'tupla'}\n",
            "{1: 'dos'}\n"
          ]
        }
      ]
    },
    {
      "cell_type": "markdown",
      "source": [
        "### Metodos:"
      ],
      "metadata": {
        "id": "N700q-I62tN9"
      }
    },
    {
      "cell_type": "code",
      "source": [
        "#Keys = devuelve una lista con las claves\n",
        "print(diccionario.keys())\n",
        "\n",
        "#Values = devuelve una lista con los valores\n",
        "print(diccionario.values())\n",
        "\n",
        "#Pop = para eliminar una clave y valor\n",
        "diccionario.pop(2)\n",
        "print(diccionario)\n",
        "\n",
        "#Clear = elimina todos los elementos del diccionario\n",
        "diccionario.clear()\n",
        "print(diccionario)"
      ],
      "metadata": {
        "colab": {
          "base_uri": "https://localhost:8080/"
        },
        "id": "ZpwHQ2jV2y3w",
        "outputId": "adec968d-6220-4f85-f485-dcf9a91cb6f3"
      },
      "execution_count": 21,
      "outputs": [
        {
          "output_type": "stream",
          "name": "stdout",
          "text": [
            "dict_keys([1, 2, 3])\n",
            "dict_values(['uno', 'dos', 'tres'])\n",
            "{1: 'uno', 3: 'tres'}\n",
            "{}\n"
          ]
        }
      ]
    }
  ]
}